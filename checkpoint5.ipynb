{
 "cells": [
  {
   "cell_type": "markdown",
   "id": "274e5fc9",
   "metadata": {},
   "source": [
    "Question:1"
   ]
  },
  {
   "cell_type": "code",
   "execution_count": 10,
   "id": "5699a63a",
   "metadata": {},
   "outputs": [
    {
     "name": "stdout",
     "output_type": "stream",
     "text": [
      "Original array: \n",
      "array('H', [1, 2, 3, 4, 5, 6, 7, 8, 9])\n",
      "Array to list: \n",
      "[1, 2, 3, 4, 5, 6, 7, 8, 9]\n"
     ]
    }
   ],
   "source": [
    "from array import array\n",
    "arra1 = array('H', [1,2,3,4,5,6,7,8,9])\n",
    "print(\"Original array: \")\n",
    "print(arra1)\n",
    "print(\"Array to list: \")\n",
    "print(arra1.tolist())"
   ]
  },
  {
   "cell_type": "markdown",
   "id": "74fa0607",
   "metadata": {},
   "source": [
    "Question:2"
   ]
  },
  {
   "cell_type": "code",
   "execution_count": 16,
   "id": "d0a509e1",
   "metadata": {},
   "outputs": [
    {
     "name": "stdout",
     "output_type": "stream",
     "text": [
      "Original matrix:\n",
      "[[0 1 2]\n",
      " [3 4 5]\n",
      " [6 7 8]]\n",
      "Condition number of the said matrix:\n",
      "12\n"
     ]
    }
   ],
   "source": [
    "import numpy as np\n",
    "m = np.arange(9).reshape(3,3)\n",
    "print(\"Original matrix:\")\n",
    "print(m)\n",
    "result =  np.trace(m)\n",
    "print(\"Condition number of the said matrix:\")\n",
    "print(result)"
   ]
  },
  {
   "cell_type": "markdown",
   "id": "03e0627e",
   "metadata": {},
   "source": [
    "Question:3"
   ]
  },
  {
   "cell_type": "code",
   "execution_count": 2,
   "id": "1038e9a7",
   "metadata": {},
   "outputs": [
    {
     "name": "stdout",
     "output_type": "stream",
     "text": [
      "Original array: \n",
      "[[ 0 10 20]\n",
      " [20 30 40]]\n",
      "Values bigger than 10 = [20 20 30 40]\n",
      "Their indices are  (array([0, 1, 1, 1], dtype=int64), array([2, 0, 1, 2], dtype=int64))\n"
     ]
    }
   ],
   "source": [
    "import numpy as np\n",
    "\n",
    "x = np.array([[0, 10, 20], [20, 30, 40]])\n",
    "print(\"Original array: \")\n",
    "print(x)\n",
    "print(\"Values bigger than 10 =\", x[x>10])\n",
    "print(\"Their indices are \", np.nonzero(x > 10))"
   ]
  },
  {
   "cell_type": "markdown",
   "id": "80283d2a",
   "metadata": {},
   "source": [
    "Question:4"
   ]
  },
  {
   "cell_type": "code",
   "execution_count": 40,
   "id": "3d48d71f",
   "metadata": {},
   "outputs": [
    {
     "name": "stdout",
     "output_type": "stream",
     "text": [
      "[[ 0 20 40]\n",
      " [40 60 80]]\n"
     ]
    },
    {
     "data": {
      "text/plain": [
       "'\"z=(a[0,0])+(b[0,0])\\ne=(a[0,1])+(b[0,1])\\nr=(a[0,2])+(b[0,2])\\n\\nt=(a[1,0])+(b[1,0])\\ny=(a[1,1])+(b[1,1])\\nu=(a[1,2])+(b[1,2])\\n\\nc=(z,e,r,t,y,u)\\n\\nprint(c)'"
      ]
     },
     "execution_count": 40,
     "metadata": {},
     "output_type": "execute_result"
    }
   ],
   "source": [
    "import numpy as np\n",
    "a = np.array([[0, 10, 20] , [20, 30, 40]])\n",
    "b = np.array([[0, 10, 20] , [20, 30, 40]])\n",
    "\n",
    "\n",
    "for i in range (len(a)):\n",
    "    c=a[:,:]+b[:,:]\n",
    "    \n",
    "print(c)\n",
    "\n",
    "\n",
    "#c=a+b\n",
    "\n",
    "\"\"\"\"z=(a[0,0])+(b[0,0])\n",
    "e=(a[0,1])+(b[0,1])\n",
    "r=(a[0,2])+(b[0,2])\n",
    "\n",
    "t=(a[1,0])+(b[1,0])\n",
    "y=(a[1,1])+(b[1,1])\n",
    "u=(a[1,2])+(b[1,2])\n",
    "\n",
    "c=(z,e,r,t,y,u)\n",
    "\n",
    "print(c)\"\"\"\n",
    "\n"
   ]
  },
  {
   "cell_type": "markdown",
   "id": "7e12d839",
   "metadata": {},
   "source": [
    "Question:5"
   ]
  },
  {
   "cell_type": "code",
   "execution_count": 14,
   "id": "5eb077b6",
   "metadata": {},
   "outputs": [
    {
     "name": "stdout",
     "output_type": "stream",
     "text": [
      "Original matrix\n",
      "[[0.28656937 0.85934837 0.7826951  0.74030761 0.88949159 0.79087783]\n",
      " [0.46486184 0.97340973 0.9574023  0.6917564  0.7783304  0.34353612]\n",
      " [0.22288618 0.02418203 0.48711731 0.87126926 0.22769173 0.3456935 ]]\n",
      "Subtract the mean of each row of the said matrix:\n",
      "[[-0.43831228  0.13446673  0.05781346  0.01542596  0.16460995  0.06599618]\n",
      " [-0.23668763  0.27186027  0.25585283 -0.00979307  0.07678093 -0.35801334]\n",
      " [-0.14025383 -0.33895797  0.12397731  0.50812926 -0.13544827 -0.0174465 ]]\n"
     ]
    }
   ],
   "source": [
    "import numpy as np\n",
    "print(\"Original matrix\")\n",
    "X = np.random.rand(3, 6)\n",
    "print(X)\n",
    "print(\"Subtract the mean of each row of the said matrix:\")\n",
    "Y = X - X.mean(axis=1, keepdims=True)\n",
    "print(Y)"
   ]
  },
  {
   "cell_type": "code",
   "execution_count": null,
   "id": "caf11550",
   "metadata": {},
   "outputs": [],
   "source": []
  }
 ],
 "metadata": {
  "kernelspec": {
   "display_name": "Python 3",
   "language": "python",
   "name": "python3"
  },
  "language_info": {
   "codemirror_mode": {
    "name": "ipython",
    "version": 3
   },
   "file_extension": ".py",
   "mimetype": "text/x-python",
   "name": "python",
   "nbconvert_exporter": "python",
   "pygments_lexer": "ipython3",
   "version": "3.8.8"
  }
 },
 "nbformat": 4,
 "nbformat_minor": 5
}
